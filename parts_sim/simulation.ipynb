{
 "cells": [
  {
   "cell_type": "code",
   "execution_count": null,
   "metadata": {
    "collapsed": true
   },
   "outputs": [],
   "source": [
    "# PARTS-based script to import GMM-derived rain DSDs, set up a model atmosphere with\n",
    "#  a liquid cloud and a rain layer below it, and simulate GMI-type observations' spread\n",
    "#  from using fixed RWP with different DSDs \n",
    "# [simon wrote much of the below]\n",
    "\n",
    "# cleaned up in mid dec, d duncan, and committed to github\n",
    "\n",
    "%env ARTS_INCLUDE_PATH=/home/dudavid/arts/controlfiles\n",
    "%load_ext autoreload\n",
    "%autoreload 2\n",
    "from data_provider import DataProvider\n",
    "import numpy as np\n",
    "plt.style.use('bmh')"
   ]
  },
  {
   "cell_type": "markdown",
   "metadata": {},
   "source": [
    "## PSD Data"
   ]
  },
  {
   "cell_type": "code",
   "execution_count": null,
   "metadata": {
    "collapsed": true
   },
   "outputs": [],
   "source": [
    "ngmm = 6 # number of GMM classes from input data\n",
    "data = np.load(\"ND_rwcnorm_\"+str(ngmm)+\".npy\") \n",
    "# mean GMM class 1 data (just as example), output from table.ipynb\n",
    "print(data.shape)\n",
    "ex = np.load('oceanrain_binsizes.npy')[12:(12+data.shape[1])] # as defined by OR, saved in npy for convenience\n",
    "x = ex/1e3 # from mm into m\n",
    "ex = x # save for later use\n",
    "print(x.shape, ex)"
   ]
  },
  {
   "cell_type": "code",
   "execution_count": null,
   "metadata": {
    "collapsed": true
   },
   "outputs": [],
   "source": [
    "def mgd(in_D,in_Dm,in_mu,in_RWC): #Nw):\n",
    "    \"\"\"\n",
    "     Calcuate the Modified Gamma drop size distribution\n",
    "\n",
    "     Input (note, all inputs should be vectors of same size!) : \n",
    "            in_D:  vector of diameters [mm]\n",
    "            in_Dm: mass-weighted mean diameter [mm]\n",
    "            in_mu: shape parameter [dim-less]\n",
    "            in_RWC: RWC [kg m-3]\n",
    "            #in_Nw: normalized intercept parameter [IN LOG10()!!] [mm-1 m-3]\n",
    "     output: N(D) [len(in_D)] in m^{-3} mm^{-1}\n",
    "    \"\"\"\n",
    "    if(len(in_D)==1):\n",
    "        print(\"need to input vector for in_D\")\n",
    "    enot = (4**4)/(np.pi*1000.0) * in_RWC/((in_Dm*1e-3)**4) *1e-3 \n",
    "    # calc intercept param from RWC, Dm -- get units into mm-1 m-3\n",
    "    #enot = 10**in_Nw\n",
    "    eff = 6/(4**4) * ((4+in_mu)**(4+in_mu) ) / math.gamma(np.float128(4+in_mu))\n",
    "    ModGam = enot * eff * (in_D/in_Dm)**in_mu * np.exp(-(4+in_mu)*in_D/in_Dm)\n",
    "    return ModGam"
   ]
  },
  {
   "cell_type": "markdown",
   "metadata": {},
   "source": [
    "## Data provider\n",
    "\n",
    "The data provider provides the data describing the atmospheric state. [set in external file]"
   ]
  },
  {
   "cell_type": "code",
   "execution_count": null,
   "metadata": {
    "collapsed": true,
    "scrolled": true
   },
   "outputs": [],
   "source": [
    "%matplotlib inline\n",
    "import matplotlib.pyplot as plt\n",
    "\n",
    "\n",
    "rwp = 100e-3     # set RWP [kg/m2]\n",
    "lwp = 200e-3  # set CLWP [kg/m2]\n",
    "p0  = 101300 #e5   # lower bound of rain layer (pressure [Pa])\n",
    "p1 = 9.04e4    # upper \"\"  --- CANNOT MAKE THINNER WITHOUT ADJUSTING DATAPROVIDER FILE\n",
    "p2 = 7.8e4\n",
    "\n",
    "data_provider = DataProvider(rwp, p0, p1, lwp, p1, p2)\n",
    "\n",
    "# vars just defined here for plotting\n",
    "p  = data_provider.get_pressure() # if no arg, P is defined as in external DP file\n",
    "print(p)\n",
    "z  = data_provider.get_altitude() # \"\"\"\"\"\"\n",
    "print(z)\n",
    "md = data_provider.get_rain_mass_density() # in kg/m3\n",
    "md_cloud = data_provider.get_cloud_mass_density() # in kg/m3\n",
    "print(md[0:2],p[0:2],z[0:2])\n",
    "\n",
    "\n",
    "plt.plot(md*1e3, z / 1e3) # alt from m to km\n",
    "plt.plot(md_cloud*1e3, z / 1e3) # alt from m to km\n",
    "plt.xlabel(\"RWC [g/m3]\")\n",
    "plt.ylabel(\"Altitude [km]\")\n",
    "plt.ylim([0,18])"
   ]
  },
  {
   "cell_type": "markdown",
   "metadata": {},
   "source": [
    "## Scattering data\n",
    "\n",
    "We need to interpolate the psd data to match the liquid sphere scattering data."
   ]
  },
  {
   "cell_type": "code",
   "execution_count": null,
   "metadata": {
    "collapsed": true
   },
   "outputs": [],
   "source": [
    "# load scattering data from Dendrite, then interpolate to match database\n",
    "ssdb_path = \"/home/dudavid/Dendrite/Dendrite/SSDB/ArtsScatDbase/ArtsScatDbase_v1.0.0/StandardHabits/FullSet/\"\n",
    "#ssdb_path = \"/home/dudavid/Dendrite/Dendrite/SSDB/SSDB_temp/StandardHabits/\"\n",
    "# 2nd SSDB path has much more spectral resolution ## and takes longer to run\n",
    "scattering_data = ssdb_path + \"LiquidSphere.xml\"\n",
    "scattering_meta = ssdb_path + \"LiquidSphere.meta.xml\"\n",
    "from typhon.arts.xml import load\n",
    "sd = load(scattering_data)\n",
    "sd_meta = load(scattering_meta)\n",
    "\n",
    "sd_grid = np.array([m.diameter_volume_equ for m in sd_meta])\n",
    "sd_grid * 1e3 # so, into m\n",
    "print('scat data pts in mm: ',sd_grid*1000)\n",
    "\n",
    "psd_x = sd_grid\n",
    "psd_shape = np.interp(sd_grid, x, data[0, :])"
   ]
  },
  {
   "cell_type": "code",
   "execution_count": null,
   "metadata": {
    "collapsed": true,
    "scrolled": false
   },
   "outputs": [],
   "source": [
    "# verify that interpolated DSD matches the input closely [check]\n",
    "plt.figure(figsize=[10,7])\n",
    "for p in range(ngmm):\n",
    "    yessir = np.interp(sd_grid, x, data[p, :])\n",
    "    yessir[psd_x > .006] = 0.0\n",
    "    yessir[psd_x < .0001] = 0.0\n",
    "    #print(yessir)\n",
    "    plt.plot(psd_x*1000, yessir , label=str(p+1))\n",
    "    #plt.plot(psd_x*1000, np.interp(sd_grid, x, data[p, :]) , label=str(p+1))\n",
    "#plt.plot(psd_x*1000, np.interp(sd_grid, x, mgd(x*1000,Dmi,mui,0.0003)))#data_provider.get_rain_mass_density()[0])))\n",
    "plt.yscale(\"log\")\n",
    "plt.xlim([.01,7])\n",
    "plt.ylim([1e-1,2e4])\n",
    "plt.legend()"
   ]
  },
  {
   "cell_type": "markdown",
   "metadata": {},
   "source": [
    "## Parts simulation -- import parts"
   ]
  },
  {
   "cell_type": "code",
   "execution_count": null,
   "metadata": {
    "collapsed": true
   },
   "outputs": [],
   "source": [
    "import sys\n",
    "sys.path += [\"/home/dudavid/src/parts\"] # to verify that PARTS is in the system path\n",
    "#sys.path"
   ]
  },
  {
   "cell_type": "code",
   "execution_count": null,
   "metadata": {
    "collapsed": true
   },
   "outputs": [],
   "source": [
    "from parts import ArtsSimulation\n",
    "from parts.scattering import ScatteringSpecies\n",
    "from parts.atmosphere import Atmosphere1D\n",
    "from parts.sensor import PassiveSensor, ICI\n",
    "from parts.atmosphere.absorption import O2, N2, H2O\n",
    "from parts.atmosphere.surface import Tessem\n",
    "from parts.scattering.solvers import RT4, Disort"
   ]
  },
  {
   "cell_type": "markdown",
   "metadata": {},
   "source": [
    "### Fixed-shape psd\n",
    "\n",
    "The FixedShape class  represents PSD data that has a fixed shape. It takes the mass density profile provided by the data provider and multiplies it with the normalized PSD shape."
   ]
  },
  {
   "cell_type": "code",
   "execution_count": null,
   "metadata": {
    "collapsed": true
   },
   "outputs": [],
   "source": [
    "from parts.scattering.psd.fixed_shape import FixedShape\n",
    "#from parts.scattering.psd.modified_gamma import ModifiedGamma\n",
    "\n",
    "psd = FixedShape(psd_x, psd_shape)\n",
    "\n",
    "#psd_mgd = ModifiedGamma()\n",
    "# instead of using ModifiedGamma function... calculate manually and set as new fixed shape\n",
    "Dmi, mui = 1.5, 2\n",
    "\n",
    "#mgd_shape = mgd(x*1000, 1.3, 3, data_provider.get_rain_mass_density() ) # D, Dm, mu, RWC\n",
    "#psd_shape_mgd = np.interp(sd_grid, x, mgd_shape)\n",
    "mgd_psd = FixedShape(psd_x, np.interp(sd_grid,x,mgd(x*1000, Dmi, mui, data_provider.get_rain_mass_density()[0])))\n",
    "#plt.plot(x*1000, mgd(x*1000, Dmi, mui, data_provider.get_rain_mass_density()[0]))"
   ]
  },
  {
   "cell_type": "markdown",
   "metadata": {},
   "source": [
    "### Atmosphere"
   ]
  },
  {
   "cell_type": "code",
   "execution_count": null,
   "metadata": {
    "collapsed": true
   },
   "outputs": [],
   "source": [
    "from parts.scattering.psd import D14  # Delanoe 2014 PSD (for now, since it's in parts)\n",
    "# add cloud layer properties\n",
    "cloud = ScatteringSpecies(\"cloud\", D14(1.0, 2.0, rho = 1000.0),\n",
    "                        scattering_data = scattering_data,\n",
    "                        scattering_meta_data = scattering_meta)"
   ]
  },
  {
   "cell_type": "code",
   "execution_count": null,
   "metadata": {
    "collapsed": true
   },
   "outputs": [],
   "source": [
    "# add rain species, setup atmospheric abs and scat species, plus surface\n",
    "\n",
    "rain = ScatteringSpecies(\"rain\", psd,\n",
    "                        scattering_data = scattering_data,\n",
    "                        scattering_meta_data = scattering_meta)\n",
    "\n",
    "atmosphere = Atmosphere1D(absorbers = [O2(), N2(), H2O()],\n",
    "                          scatterers = [rain, cloud],\n",
    "                          surface = Tessem())  # Tessem sfc model currently only option in PARTS"
   ]
  },
  {
   "cell_type": "markdown",
   "metadata": {},
   "source": [
    "### Sensor"
   ]
  },
  {
   "cell_type": "code",
   "execution_count": null,
   "metadata": {
    "collapsed": true
   },
   "outputs": [],
   "source": [
    "#channels = np.array([10.65e9, 18.7e9, 23.8e9, 36.65e9, 89e9]) #, 166e9, 180.31e9, 190.31e9]) # made-up sensor for now\n",
    "\n",
    "channels = np.array([19e9, 36.5e9, 89e9]) # picked 3 GMI frequencies\n",
    "ch_str = ['19GHz','36GHz','89GHz']\n",
    "nch = channels.size\n",
    "gmi = PassiveSensor(\"gmi\", channels, stokes_dimension = 1) \n",
    "gmi.sensor_line_of_sight = np.array([[135.0]]) # angle from SC, not EIA\n",
    "gmi.sensor_position = np.array([[407e3]]) # alt in m\n",
    "gmi.iy_unit = \"PlanckBT\"  # since using Disort, no V/H polarization information..."
   ]
  },
  {
   "cell_type": "markdown",
   "metadata": {},
   "source": [
    "### Running the simulation"
   ]
  },
  {
   "cell_type": "code",
   "execution_count": null,
   "metadata": {
    "collapsed": true
   },
   "outputs": [],
   "source": [
    "from typhon.arts.workspace.api import arts_api"
   ]
  },
  {
   "cell_type": "code",
   "execution_count": null,
   "metadata": {
    "collapsed": true
   },
   "outputs": [],
   "source": [
    "simulation = ArtsSimulation(atmosphere = atmosphere,\n",
    "                            data_provider = data_provider,\n",
    "                            sensors = [gmi])\n",
    "#simulation.scattering_solver = Disort() \n",
    "#RT4(nstreams = 8, auto_inc_nstreams = 8, robust = 1) # use this or else problems?\n",
    "\n",
    "\n",
    "#simulation.scattering_solver = RT4(nstreams = 4, auto_inc_nstreams = 16, robust = 1) # use this or else problems?\n",
    "simulation.scattering_solver = Disort(nstreams = 32)\n",
    "simulation.setup()\n",
    "simulation.run()\n",
    "print(\"TEST SIMULATION: \")\n",
    "print(gmi.y)"
   ]
  },
  {
   "cell_type": "code",
   "execution_count": null,
   "metadata": {
    "collapsed": true
   },
   "outputs": [],
   "source": [
    "#FixedShape.shape?\n",
    "ws = simulation.workspace\n",
    "ws.verbositySet(agenda = 0, screen = 0, file = 0)"
   ]
  },
  {
   "cell_type": "code",
   "execution_count": null,
   "metadata": {
    "collapsed": true
   },
   "outputs": [],
   "source": [
    "# run a case with RWP=0 to form base case\n",
    "data_provider.rwp = 0\n",
    "simulation.run()\n",
    "base_tb = np.array(np.copy(gmi.y).ravel())\n",
    "print('BASE TB with RWP=0: ',base_tb)"
   ]
  },
  {
   "cell_type": "code",
   "execution_count": null,
   "metadata": {
    "collapsed": true,
    "scrolled": false
   },
   "outputs": [],
   "source": [
    "# try running through RWP values and assess spread in Tb intensity\n",
    "rwp_max = 0.6\n",
    "rwp_step = .08\n",
    "rwp_vals = np.arange(0.001,rwp_max,rwp_step) # since 0 will be same for all\n",
    "\n",
    "sv_tb = np.zeros([nch, rwp_vals.size, ngmm+1])\n",
    "print(sv_tb.shape)\n",
    "\n",
    "for r in range(len(rwp_vals)):\n",
    "    print('RWP loop: ',rwp_vals[r])\n",
    "    for s in range(ngmm):\n",
    "        data_provider.rwp = rwp_vals[r]\n",
    "        new_shape = np.interp(sd_grid, x, data[s,:])\n",
    "        new_shape[sd_grid > .006] = 0.0 # limiting weird stuff from huge drops\n",
    "        new_shape[sd_grid < .0001] = 0.0\n",
    "        simulation.atmosphere.scatterers[0].psd.set_shape( new_shape )\n",
    "        simulation.run()\n",
    "        sv_tb[:,r,s] = np.ravel(np.copy(gmi.y)) #-base_tb\n",
    "        #print(s,np.trapz(psd.shape.ravel() * psd_x ** 3, x = psd_x), data_provider.rwp) # verify mass-weighted drops\n",
    "        \n",
    "    # then with a token MGD curve -- defined above\n",
    "    new_shape = np.interp(sd_grid, x, mgd(x*1000,Dmi,mui,1.0)) # fixedshape will normalize, so rwc doesn't matter\n",
    "    new_shape[sd_grid > .006] = 0.0 # limiting weird stuff from huge drops\n",
    "    new_shape[sd_grid < .0001] = 0.0\n",
    "    simulation.atmosphere.scatterers[0].psd.set_shape( new_shape )\n",
    "    simulation.run()\n",
    "    sv_tb[:,r,s+1] = np.ravel(np.copy(gmi.y)) #-base_tb\n",
    "    psd = simulation.atmosphere.scatterers[0].psd"
   ]
  },
  {
   "cell_type": "code",
   "execution_count": null,
   "metadata": {
    "collapsed": true
   },
   "outputs": [],
   "source": [
    "psd.psd.get_mass_density()\n",
    "from copy import copy\n",
    "psd_2 = copy(psd)\n",
    "psd_2.psd.data = psd.shape\n",
    "psd_2.psd.get_mass_density()\n",
    "psd_2.size_parameter.b"
   ]
  },
  {
   "cell_type": "code",
   "execution_count": null,
   "metadata": {
    "collapsed": true
   },
   "outputs": [],
   "source": [
    "psd = simulation.atmosphere.scatterers[0].psd\n",
    "#plt.plot(psd_x, psd.shape.ravel())"
   ]
  },
  {
   "cell_type": "code",
   "execution_count": null,
   "metadata": {
    "collapsed": true,
    "scrolled": true
   },
   "outputs": [],
   "source": [
    "plt.style.use('bmh')\n",
    "f19=plt.figure(figsize=[14,9])\n",
    "fs=14\n",
    "plt.plot(rwp_vals, sv_tb[0,:,s+1]-base_tb[0],'k--',label='19GHz, MGD ($D_m$='+str(Dmi)+', $\\mu$='+str(mui)+')')\n",
    "for s in range(ngmm):\n",
    "    plt.plot(rwp_vals, sv_tb[0,:,s]-base_tb[0],'--',label='19GHz, GMM'+str(s+1))\n",
    "plt.legend(fontsize=fs,loc='upper left')\n",
    "plt.xlabel(r\"RWP [$kg m^{-2}$]\",fontsize=fs+4)\n",
    "plt.ylabel('$\\Delta T_B$ [K]',fontsize=fs+4)\n",
    "plt.xticks(fontsize=fs)\n",
    "plt.yticks(fontsize=fs)\n",
    "f19.savefig('../img/gmm_passive_clwp200.19ghz.v1.png',dpi=300)"
   ]
  },
  {
   "cell_type": "code",
   "execution_count": null,
   "metadata": {
    "collapsed": true,
    "scrolled": true
   },
   "outputs": [],
   "source": [
    "plt.style.use('bmh')\n",
    "f36=plt.figure(figsize=[14,9])\n",
    "fs=14\n",
    "plt.plot(rwp_vals, sv_tb[1,:,s+1]-base_tb[1],'k--',label='36GHz, MGD ($D_m$='+str(Dmi)+', $\\mu$='+str(mui)+')')\n",
    "for s in range(ngmm):\n",
    "    plt.plot(rwp_vals, sv_tb[1,:,s]-base_tb[1],'--',label='36GHz, GMM'+str(s+1))\n",
    "plt.legend(fontsize=fs,loc='upper left')\n",
    "plt.xlabel(r\"RWP [$kg m^{-2}$]\",fontsize=fs+4)\n",
    "plt.ylabel('$\\Delta T_B$ [K]',fontsize=fs+4)\n",
    "plt.xticks(fontsize=fs)\n",
    "plt.yticks(fontsize=fs)\n",
    "f36.savefig('../img/gmm_passive_clwp200.36ghz.v1.png',dpi=300)"
   ]
  },
  {
   "cell_type": "code",
   "execution_count": null,
   "metadata": {
    "collapsed": true,
    "scrolled": true
   },
   "outputs": [],
   "source": [
    "plt.style.use('bmh')\n",
    "f89=plt.figure(figsize=[14,9])\n",
    "fs=14\n",
    "plt.plot(rwp_vals, sv_tb[0,:,s+1]-base_tb[0],'k--',label='89GHz, MGD ($D_m$='+str(Dmi)+', $\\mu$='+str(mui)+')')\n",
    "for s in range(ngmm):\n",
    "    plt.plot(rwp_vals, sv_tb[0,:,s]-base_tb[0],'--',label='89GHz, GMM'+str(s+1))\n",
    "plt.legend(fontsize=fs,loc='upper left')\n",
    "plt.xlabel(r\"RWP [$kg m^{-2}$]\",fontsize=fs+4)\n",
    "plt.ylabel('$\\Delta T_B$ [K]',fontsize=fs+4)\n",
    "plt.xticks(fontsize=fs)\n",
    "plt.yticks(fontsize=fs)\n",
    "f89.savefig('../img/gmm_passive_clwp200.89ghz.v1.png',dpi=300)"
   ]
  },
  {
   "cell_type": "code",
   "execution_count": null,
   "metadata": {
    "collapsed": true,
    "scrolled": true
   },
   "outputs": [],
   "source": [
    "print(info(sv_tb))\n",
    "plt.style.use('bmh')\n",
    "plt.figure(figsize=[14,9])\n",
    "fs=14\n",
    "plt.plot(rwp_vals, sv_tb[0,:,s+1]-base_tb[0],'k--',label='19GHz, MGD ($D_m$='+str(Dmi)+', $\\mu$='+str(mui))\n",
    "plt.plot(rwp_vals, sv_tb[1,:,s+1]-base_tb[1],'-.',label='36GHz, MGD')\n",
    "plt.plot(rwp_vals, sv_tb[2,:,s+1]-base_tb[2],'k',label='89GHz, MGD ($D_m$='+str(Dmi)+', $\\mu$='+str(mui))\n",
    "for s in range(ngmm):\n",
    "    plt.plot(rwp_vals, sv_tb[0,:,s]-base_tb[0],'--',label='19GHz, GMM'+str(s+1))\n",
    "    plt.plot(rwp_vals, sv_tb[1,:,s]-base_tb[1],'-.',label='36GHz, GMM'+str(s+1))\n",
    "    plt.plot(rwp_vals, sv_tb[2,:,s]-base_tb[2],label='89GHz, GMM'+str(s+1))\n",
    "plt.legend(fontsize=fs,loc='upper left')\n",
    "plt.xlabel(r\"RWP [$kg m^{-2}$]\",fontsize=fs+4)\n",
    "plt.ylabel('$\\Delta T_B$ [K]',fontsize=fs+4)\n",
    "\n",
    "plt.figure(figsize=[14,9])\n",
    "for ch in range(len(channels)):\n",
    "    plt.plot(rwp_vals, np.std(sv_tb[ch,:,:ngmm], axis=1), label=ch_str[ch])\n",
    "fs=14\n",
    "#plt.title(\"Stddev(TB) with \"+str(ngmm)+\" classes\",fontsize=fs)\n",
    "plt.xlabel(r\"RWP [$kg m^{-2}$]\",fontsize=fs+4)\n",
    "plt.ylabel(\"$\\sigma (T_B)$ [K]\",fontsize=fs+4)\n",
    "plt.xticks(fontsize=fs)\n",
    "plt.yticks(fontsize=fs)\n",
    "plt.legend(fontsize=fs,loc='upper left')"
   ]
  },
  {
   "cell_type": "code",
   "execution_count": null,
   "metadata": {
    "collapsed": true
   },
   "outputs": [],
   "source": [
    "#ws = simulation.workspace\n",
    "#y  = ws.pnd_field\n",
    "#\n",
    "#psd = simulation.atmosphere.scatterers[0].psd\n",
    "#x = psd._wsvs[\"x\"]\n",
    "#x.ws = simulation.workspace\n",
    "##plt.plot(x.value[:] * 1000.0, y.value[:, 0, 0, 0])\n",
    "##plt.yscale(\"log\")\n",
    "##plt.xlim([.3,4])\n",
    "#"
   ]
  },
  {
   "cell_type": "code",
   "execution_count": null,
   "metadata": {
    "collapsed": true
   },
   "outputs": [],
   "source": [
    "# Running the simulation setup for 'native' OceanRAIN data... read in output from collate_m first\n",
    "#  then use the fixed shape parts call to run fwd model without modifying input data.\n",
    "typ = 'MSs3'\n",
    "dir_raw_data = \"/home/dudavid/projects/dsd/dj/data/\"\n",
    "lo = np.load(dir_raw_data+'alllond'+typ+'.npy')# [::per]\n",
    "la = np.load(dir_raw_data+'alllatd'+typ+'.npy')# [::per]\n",
    "epo= np.load(dir_raw_data+'allepochd'+typ+'.npy')# [::per]\n",
    "rcts = np.load(dir_raw_data+'rallcts'+typ+'.80.npy').transpose()#[::per,:] # raw (per mm) counts\n",
    "\n",
    "# averaging over consecutive time steps to give a little spatial averaging sense\n",
    "#   [if location varies very little for consecutive points then put them together]\n",
    "\n",
    "en = np.size(lo)\n",
    "rcts_newer = rcts\n",
    "mo = 3   # this is smoothing referred to in the paper:\n",
    "if mo > 0: \n",
    "    smoof = 'S' \n",
    "else:\n",
    "    smoof=''\n",
    "c=0\n",
    "for f in range(en-2*mo)[mo:]:\n",
    "    space_var = np.std(lo[(f-mo):(f+mo+1)])+np.std(la[(f-mo):(f+mo+1)])\n",
    "    time_var  = np.std(epo[(f-mo):(f+mo+1)])\n",
    "    if space_var < 0.1 and time_var < 500:  # so ~10km max, mostly within 5min?\n",
    "        rcts_newer[f,:] = np.mean(rcts[(f-mo):(f+mo+1),:], axis=0)\n",
    "        c+=1\n",
    "print(c,'smoof='+smoof)\n",
    "        \n",
    "# take every _th point to save time:\n",
    "per = 3 #00\n",
    "\n",
    "rcts_newer = rcts_newer[::per,:]\n",
    "dm = np.load(dir_raw_data+'alldmd'+typ+'.npy')[::per]\n",
    "rr = np.load(dir_raw_data+'allrrd'+typ+'.npy')[::per]\n",
    "ku = np.load(dir_raw_data+'allkud'+typ+'.npy')[::per]\n",
    "ka = np.load(dir_raw_data+'allkad'+typ+'.npy')[::per]\n",
    "mu = np.load(dir_raw_data+'allmud'+typ+'.npy')[::per]\n",
    "nw = np.log10( np.load(dir_raw_data+'allnwd'+typ+'.npy')[::per] ) # given as log10()\n",
    "print(np.mean(mu),np.mean(dm),np.mean(nw))\n",
    "nor = dm.size\n",
    "#vcts = np.load(dir_raw_data+'vallcts'+typ+'.80.npy').transpose()[::per,:] # vol-weighted, smoothed\n",
    "#ncts = np.load(dir_raw_data+'normallcts'+typ+'.80.npy').transpose()[::per,:] # vol-weighted and normalized\n",
    "#rcts = np.load(dir_raw_data+'rallcts'+typ+'.80.npy').transpose()[::per,:] # raw (per mm) counts\n",
    "#scts = np.load(dir_raw_data+'snallcts'+typ+'.80.npy').transpose()[::per,:] # smoothed, normalized, not weighted\n",
    "#rwcts =np.load(dir_raw_data+'rwallcts'+typ+'.80.npy').transpose()[::per,:] # RWC-normalized raw\n",
    "cts = rcts_newer # choose which one to use\n",
    "\n",
    "# read in 80 size bins above, trim to __ in rest of code\n",
    "mb = 60\n",
    "bye = 1 # how many consecutive bins to sum/avg over\n",
    "cts_new = np.array([ np.mean(cts[:,x*bye:(x*bye+bye)],axis=1) for x in range(int(mb/bye)) ]).transpose()\n",
    "#rcts_new= np.array([ np.mean(rcts[:,x*bye:(x*bye+bye)],axis=1) for x in range(int(mb/bye)) ]).transpose()\n",
    "#print(cts_new.shape)\n"
   ]
  },
  {
   "cell_type": "code",
   "execution_count": null,
   "metadata": {
    "collapsed": true
   },
   "outputs": [],
   "source": [
    "d_mid = np.array([ np.mean(ex[n:n+2]) for n in range(int(mb/bye)) ]) # diam midpoint in m\n",
    "dD = [1e3*(ex[n+1]-ex[n]) for n in range(len(ex)-1)]  #delta D in mm\n",
    "\n",
    "# calculate RWC from the raw data  i.e. RWC = rho*sum(4/3 pi r^3 dr)\n",
    "LWC = np.array([1000.0*np.pi/6 * np.trapz( cts_new[i,:] * (ex[:])**3, ex) for i in range(nor)]) \n",
    "# should be in kg/m^3 (so multiply by maybe 500m to get an idea of rwp)\n",
    "\n",
    "print(info(LWC))\n",
    "np.save('OR_native'+smoof+'_LWC.every'+str(per),LWC) ## NOTE SMOOTHED OR NOT WITH 'S' (set above)"
   ]
  },
  {
   "cell_type": "code",
   "execution_count": null,
   "metadata": {
    "collapsed": true
   },
   "outputs": [],
   "source": [
    "zees = data_provider.get_altitude()[data_provider.get_rain_mass_density() > 0] #.size\n",
    "print(zees) # tops of atmospheric levels\n",
    "deltaz = 1000 #zees[-1] #- 0 # should give change in altitude, RWP depth\n",
    "# THIS ASSUMES RAIN LAYER IS UNIFORM, ETC. AS ASSUMED ABOVE\n",
    "print(deltaz)"
   ]
  },
  {
   "cell_type": "code",
   "execution_count": null,
   "metadata": {
    "collapsed": true
   },
   "outputs": [],
   "source": [
    "def smooth(y, box_pts):\n",
    "    box = np.ones(box_pts)/box_pts\n",
    "    y_smooth = np.convolve(y[1:], box, mode='same')\n",
    "    y_smooth = np.append(y[0],y_smooth) # to leave first point unmolested\\n\",\n",
    "    return y_smooth"
   ]
  },
  {
   "cell_type": "markdown",
   "metadata": {},
   "source": [
    "# Assess Tb sensitivity if using GMM classes vs. MGD with set mu"
   ]
  },
  {
   "cell_type": "code",
   "execution_count": null,
   "metadata": {
    "collapsed": true
   },
   "outputs": [],
   "source": [
    "# data output from gmm_solo, saved as npy arrays for labels (1 to nc) and posterior probabilities of 0 to 1\n",
    "\n",
    "nc = 6 #10 # number of classes (IF NOT CORRECT (with what's been run) THIS WILL GIVE BAD RESULTS)\n",
    "inty = 'MSs3' # input data type -- extra s for more smoothing (n=5 instead of n=3)\n",
    "\n",
    "ddir = '/home/dudavid/projects/dsd/dj/OceanClustering/Data_store/'\n",
    "post_prob = np.load(ddir+'GMM-postprob_rwcnorm_'+str(nc)+'.'+inty+'.npy')[::per]\n",
    "labels    = np.load(ddir+'GMM-labels_rwcnorm_'+str(nc)+'.'+inty+'.npy')[::per]\n",
    "\n",
    "# re-read in the mean GMM vectors to ensure consistency:\n",
    "gmm_means = np.load(ddir+'ND_rwcnorm_'+str(nc)+'.npy')"
   ]
  },
  {
   "cell_type": "code",
   "execution_count": null,
   "metadata": {
    "collapsed": true,
    "scrolled": true
   },
   "outputs": [],
   "source": [
    "tb_gmm = np.zeros([nor,nch]) # save TBs output from simulation\n",
    "tb_mgd = np.zeros([nor,nch]) # save TBs output from simulation\n",
    "\n",
    "for i in range(nor):\n",
    "    data_provider.rwp = LWC[i]* deltaz # kg/m3 * m\n",
    "    # use GMM-defined shape instead:\n",
    "    new_shape = np.interp(sd_grid, x, gmm_means[labels[i],:])\n",
    "    new_shape[np.logical_or(sd_grid > .006, sd_grid < .0003)] = 0.0 # limiting weird stuff from huge/tiny drops\n",
    "    simulation.atmosphere.scatterers[0].psd.set_shape( new_shape )\n",
    "    simulation.run()\n",
    "    \n",
    "    if np.mod(i,39)==0:  # just for checking as it runs\n",
    "        print('TB:',np.copy(gmi.y).ravel(), data_provider.rwp,i,nor )\n",
    "        \n",
    "    tb_gmm[i,:] = np.ravel(np.copy(gmi.y))\n",
    "    \n",
    "np.save('OR_gmm_tbs_1kmlayer.every'+str(per),tb_gmm)\n",
    "andstophere"
   ]
  },
  {
   "cell_type": "code",
   "execution_count": null,
   "metadata": {
    "collapsed": true,
    "scrolled": true
   },
   "outputs": [],
   "source": [
    "tb_mgd = np.zeros([nor,nch]) # save TBs output from simulation\n",
    "\n",
    "for i in range(nor):\n",
    "    data_provider.rwp = LWC[i]* deltaz # kg/m3 * m\n",
    "    # use MGD-defined shape instead:\n",
    "    new_shape = np.interp(sd_grid, x, mgd(x*1000, dm[i], 3.0, 1.0)) # fixedshape will normalize, so rwc doesn't matter\n",
    "    #new_shape = np.interp(sd_grid, x, gmm_means[labels[i],:])\n",
    "    new_shape[np.logical_or(sd_grid > .006, sd_grid < .0003)] = 0.0 # limiting weird stuff from huge/tiny drops\n",
    "    simulation.atmosphere.scatterers[0].psd.set_shape( new_shape )\n",
    "    simulation.run()\n",
    "    \n",
    "    if np.mod(i,39)==0:  # just for checking as it runs\n",
    "        print('TB:',np.copy(gmi.y).ravel(), data_provider.rwp,i,nor )\n",
    "        \n",
    "    tb_mgd[i,:] = np.ravel(np.copy(gmi.y))\n",
    "    \n",
    "np.save('OR_mgd_tbs_1kmlayer.every'+str(per),tb_mgd)\n",
    "#andstophere"
   ]
  },
  {
   "cell_type": "code",
   "execution_count": null,
   "metadata": {
    "collapsed": true
   },
   "outputs": [],
   "source": []
  },
  {
   "cell_type": "markdown",
   "metadata": {},
   "source": [
    "# Assess 'natural' Tb sensitivity separated by RWC"
   ]
  },
  {
   "cell_type": "code",
   "execution_count": null,
   "metadata": {
    "collapsed": true,
    "scrolled": true
   },
   "outputs": [],
   "source": [
    "tb_or = np.zeros([nor,nch]) # save TBs output from simulation\n",
    "\n",
    "for i in range(nor):\n",
    "    data_provider.rwp = LWC[i]* deltaz # kg/m3 * m\n",
    "    #if data_provider.rwp < 0.1:\n",
    "    #    data_provider.rwp = 0.1 # kg/m3 * m\n",
    "    new_shape = np.interp(sd_grid, x, smooth(cts_new[i,:],5))  # smooth to limit interp issues\n",
    "    new_shape[np.logical_or(sd_grid > .006, sd_grid < .0003)] = 0.0 # limiting weird stuff from huge/tiny drops\n",
    "    simulation.atmosphere.scatterers[0].psd.set_shape( new_shape )\n",
    "    simulation.run()\n",
    "    \n",
    "    if np.mod(i,39)==0:  # just for checking as it runs\n",
    "        print('TB:',np.copy(gmi.y).ravel(), data_provider.rwp, i,nor )\n",
    "    tb_or[i,:] = np.ravel(np.copy(gmi.y))\n",
    "    \n",
    "np.save('OR_native'+smoof+'_tbs_1kmlayer.every'+str(per),tb_or) ## NOTE SMOOTHED OR NOT WITH 'S' (set above)"
   ]
  },
  {
   "cell_type": "markdown",
   "metadata": {},
   "source": [
    "### Results"
   ]
  },
  {
   "cell_type": "code",
   "execution_count": null,
   "metadata": {
    "collapsed": true
   },
   "outputs": [],
   "source": [
    "per = 3 # 3 is highest number run so far\n",
    "# pre-supposes that smoothed and unsmoothed array have been run:\n",
    "tborS= np.load('OR_nativeS_tbs_1kmlayer.every'+str(per)+'.npy') # smoothed!\n",
    "tbor = np.load('OR_native_tbs_1kmlayer.every'+str(per)+'.npy') # unsmoothed!\n",
    "lwcS = np.load('OR_nativeS_LWC.every'+str(per)+'.npy') \n",
    "lwcnS= np.load('OR_native_LWC.every'+str(per)+'.npy') \n",
    "\n",
    "deltaz=1000. # also sloppy\n",
    "nch = 3\n",
    "\n",
    "rwp_h = np.array([0,.02,.04,.06,.08,.1,.125,.15,.175,.2,.23,.265,.3,.35,.4,.45,.5,.6])\n",
    "mnsS, mns  = np.zeros([rwp_h.size-1,nch]), np.zeros([rwp_h.size-1,nch])\n",
    "stdsS,stds = np.zeros([rwp_h.size-1,nch]), np.zeros([rwp_h.size-1,nch])\n",
    "for ar in range(rwp_h.size-1):\n",
    "    ndex = np.logical_and(lwcnS*deltaz <= rwp_h[ar+1], lwcnS*deltaz > rwp_h[ar])\n",
    "    sdex = np.logical_and(lwcS*deltaz <= rwp_h[ar+1], lwcS*deltaz > rwp_h[ar])\n",
    "    mns[ar,:]  = np.mean( tbor[ndex,:]-base_tb, axis=0 )\n",
    "    stds[ar,:] = np.std(  tbor[ndex,:], axis=0 )\n",
    "    mnsS[ar,:]  = np.mean( tborS[sdex,:]-base_tb, axis=0 )\n",
    "    stdsS[ar,:] = np.std(  tborS[sdex,:], axis=0 )\n"
   ]
  },
  {
   "cell_type": "code",
   "execution_count": null,
   "metadata": {
    "collapsed": true
   },
   "outputs": [],
   "source": [
    "fie, ax = plt.subplots(nrows=1, ncols=2, figsize=[16,7],sharex=True,sharey=True)\n",
    "\n",
    "fs = 16\n",
    "ax[0].errorbar(rwp_h[:-1], mns[:,0], stds[:,0], label='19GHz', fmt='-o', capsize=8)\n",
    "ax[0].errorbar(rwp_h[:-1], mns[:,1], stds[:,1], label='36GHz', fmt='-o', capsize=8)\n",
    "ax[0].errorbar(rwp_h[:-1], mns[:,2], stds[:,2], label='89GHz', fmt='-o', capsize=8)\n",
    "ax[0].legend(fontsize=fs,loc='upper left')\n",
    "ax[0].set_xlim([0,0.5])\n",
    "ax[0].set_ylim([0,50])\n",
    "ax[0].tick_params(labelsize=fs,axis='both',pad=7)\n",
    "ax[0].set_ylabel('$\\Delta T_B [K]$',fontsize=fs+4)\n",
    "ax[0].set_xlabel('RWP [$kg m^{-2}$]',fontsize=fs+4)\n",
    "\n",
    "ax[1].errorbar(rwp_h[:-1], mnsS[:,0], stdsS[:,0], label='19GHz', fmt='-o', capsize=8)\n",
    "ax[1].errorbar(rwp_h[:-1], mnsS[:,1], stdsS[:,1], label='36GHz', fmt='-o', capsize=8)\n",
    "ax[1].errorbar(rwp_h[:-1], mnsS[:,2], stdsS[:,2], label='89GHz', fmt='-o', capsize=8)\n",
    "ax[1].legend(fontsize=fs,loc='upper left')\n",
    "ax[1].set_xlim([0,0.5])\n",
    "ax[1].set_ylim([0,50])\n",
    "ax[1].tick_params(labelsize=fs,axis='both',pad=7)\n",
    "#ax[1].set_ylabel('$\\Delta T_B [K]$',fontsize=fs+4)\n",
    "ax[1].set_xlabel('RWP [$kg m^{-2}$]',fontsize=fs+4)\n",
    "ax[1].text(.25, 48, '(b)', fontsize=fs)\n",
    "ax[0].text(.25, 48, '(a)', fontsize=fs)\n",
    "\n",
    "\n",
    "fie.savefig('../img/nat_passive_2pan_clwp200_3freq_v2_every'+str(per)+'.png',\\\n",
    "              dpi=300,bbox_inches='tight',transparent=True)"
   ]
  },
  {
   "cell_type": "code",
   "execution_count": null,
   "metadata": {
    "collapsed": true
   },
   "outputs": [],
   "source": [
    "f_nat = plt.figure(figsize=[12,9])\n",
    "fs = 14\n",
    "plt.errorbar(rwp_h[:-1], mns[:,0], stds[:,0], label='19GHz', fmt='-o', capsize=8)\n",
    "plt.errorbar(rwp_h[:-1], mns[:,1], stds[:,1], label='36GHz', fmt='-o', capsize=8)\n",
    "plt.errorbar(rwp_h[:-1], mns[:,2], stds[:,2], label='89GHz', fmt='-o', capsize=8)\n",
    "plt.legend(fontsize=fs,loc='upper left')\n",
    "plt.xlim([0,0.5])\n",
    "plt.ylim([0,50])\n",
    "plt.xticks(fontsize=fs)\n",
    "plt.yticks(fontsize=fs)\n",
    "plt.ylabel('$\\Delta T_B [K]$',fontsize=fs+4)\n",
    "plt.xlabel('RWP [$kg m^{-2}$]',fontsize=fs+4)\n",
    "\n",
    "f_nat.savefig('../img/nat_passive_clwp200_3freq_v2'+smoof+'_every'+str(per)+'.png',\\\n",
    "              dpi=300,bbox_inches='tight',transparent=True)"
   ]
  },
  {
   "cell_type": "markdown",
   "metadata": {
    "collapsed": true
   },
   "source": [
    "# Radar variability"
   ]
  },
  {
   "cell_type": "code",
   "execution_count": null,
   "metadata": {
    "collapsed": true
   },
   "outputs": [],
   "source": [
    "\n",
    "# now do the same type of analysis, but with radar reflectivities (no need to fwd model!)"
   ]
  },
  {
   "cell_type": "code",
   "execution_count": null,
   "metadata": {
    "collapsed": true,
    "scrolled": true
   },
   "outputs": [],
   "source": [
    "rr_h = 2**(np.arange(-3,5,.15))\n",
    "mns_dbz  = np.zeros([rr_h.size-1,2])\n",
    "stds_dbz = np.zeros([rr_h.size-1,2])\n",
    "for ar in range(rr_h.size-1):\n",
    "    dex = np.logical_and(rr <= rr_h[ar+1], rr > rr_h[ar])\n",
    "    ku_z, ka_z = 10**(ku[dex]*.1), 10**(ka[dex]*.1)\n",
    "    mns_dbz[ar,:]  = [ np.mean( ku[dex] ),np.mean( ka[dex] )]\n",
    "    stds_dbz[ar,:] = [ np.std(  ku[dex] ),np.std(  ka[dex] )] \n",
    "    \n",
    "\n",
    "dbz_h = np.arange(12,45,1)\n",
    "stds_rr =  np.zeros([dbz_h.size-1,2])\n",
    "mns_rr =  np.zeros([dbz_h.size-1,2])\n",
    "for ar in range(dbz_h.size-1):\n",
    "    dexu = np.logical_and(ku <= dbz_h[ar+1], ku > dbz_h[ar])  # based on Ku refl only!\n",
    "    dexa = np.logical_and(ka <= dbz_h[ar+1], ka > dbz_h[ar])  # based on Ka refl only!\n",
    "    #print(info(rr[dexu]))\n",
    "    mns_rr[ar,:] =  [ np.mean( rr[dexu] ),np.mean(  rr[dexa] )] \n",
    "    stds_rr[ar,:] = [ np.std( rr[dexu] ),np.std(  rr[dexa] )]\n"
   ]
  },
  {
   "cell_type": "code",
   "execution_count": null,
   "metadata": {
    "collapsed": true
   },
   "outputs": [],
   "source": [
    "r1 = plt.figure(figsize=[12,9])\n",
    "fs = 14\n",
    "bye = 3\n",
    "plt.errorbar(rr_h[:-1:bye], mns_dbz[::bye,0], stds_dbz[::bye,0], label='$K_U$', fmt='-o', capsize=8)\n",
    "plt.errorbar(rr_h[:-1:bye], mns_dbz[::bye,1], stds_dbz[::bye,1], label='$K_A$', fmt='-o', capsize=8)\n",
    "plt.legend(fontsize=fs+4,loc='upper left')\n",
    "plt.xscale('log')\n",
    "plt.ylabel('Simulated reflectivity [$dBZ$]',fontsize=fs+4)\n",
    "plt.xlabel('Rain rate [$mm h^{-1}$]', fontsize=fs+4)\n",
    "plt.xticks(fontsize=fs+4)\n",
    "plt.yticks(fontsize=fs+4)\n",
    "\n",
    "r1.savefig('../img/nat_active_rr-sigdbz_2freq_v4.png',dpi=300,bbox_inches='tight',transparent=True)\n"
   ]
  },
  {
   "cell_type": "code",
   "execution_count": null,
   "metadata": {
    "collapsed": true
   },
   "outputs": [],
   "source": [
    "# NOTE: this plot is problematic because of two things:\n",
    "#  1. OR has a 0.1mm/hr cutoff in recorded rain rate, plus the axis is log, so std deviations look very skewed\n",
    "#  2. Some obs of very low reflectivities have very high rain rates, which also skews statistics heavily\n",
    "# In some bins, std > mean and so the plot routine struggles to make bars :| \n",
    "sodontplothisrightnow\n",
    "\n",
    "r2 = plt.figure(figsize=[12,9])\n",
    "bye=1\n",
    "plt.errorbar(dbz_h[:-1:bye], mns_rr[::bye,0], stds_rr[::bye,0], label='$K_U$', fmt='-o', capsize=8)\n",
    "plt.errorbar(dbz_h[:-1:bye], mns_rr[::bye,1], stds_rr[::bye,1], label='$K_A$', fmt='-o', capsize=8)\n",
    "#plt.plot(dbz_h[:-1], stds_rr[:,0], label='Ku')\n",
    "#plt.plot(dbz_h[:-1], stds_rr[:,1], label='Ka')\n",
    "plt.legend(fontsize=fs+4,loc='upper left')\n",
    "plt.xticks(fontsize=fs+4)\n",
    "plt.yticks(fontsize=fs+4)\n",
    "plt.ylabel('Rain rate [$mm h^{-1}$]',fontsize=fs+4)\n",
    "plt.yscale('log')\n",
    "#plt.ylabel('$\\sigma$(RR) [$mm hr^{-1}$]',fontsize=fs+4)\n",
    "plt.xlabel('Simulated reflectivity [$dBZ$]',fontsize=fs+4)\n",
    "\n",
    "r2.savefig('../img/nat_active_dbz-sigrr.2freq.v3.png',dpi=300,bbox_inches='tight',transparent=True)"
   ]
  }
 ],
 "metadata": {
  "kernelspec": {
   "display_name": "Python 3",
   "language": "python",
   "name": "python3"
  },
  "language_info": {
   "codemirror_mode": {
    "name": "ipython",
    "version": 3
   },
   "file_extension": ".py",
   "mimetype": "text/x-python",
   "name": "python",
   "nbconvert_exporter": "python",
   "pygments_lexer": "ipython3",
   "version": "3.6.5"
  }
 },
 "nbformat": 4,
 "nbformat_minor": 2
}
