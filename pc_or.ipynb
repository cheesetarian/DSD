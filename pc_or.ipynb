{
 "cells": [
  {
   "cell_type": "code",
   "execution_count": 1,
   "metadata": {
    "collapsed": true
   },
   "outputs": [],
   "source": [
    "# use PCA to examine how much variability actually exists in the raw\n",
    "#  OceanRain data (OceanRain-R)\n",
    "\n",
    "dir = '/home/dudavid/Dendrite/Dendrite/UserAreas/Dave/DSD/'\n",
    "#import h5py\n",
    "from netCDF4 import Dataset # these data work with both h5py and netCDF4 libs?\n",
    "import pygal\n",
    "from pygal.style import DarkColorizedStyle,DarkSolarizedStyle,CleanStyle\n",
    "from decimal import Decimal # display No in sci notation\n",
    "import glob\n"
   ]
  },
  {
   "cell_type": "code",
   "execution_count": 2,
   "metadata": {
    "collapsed": true
   },
   "outputs": [],
   "source": [
    "from sklearn.decomposition import PCA\n",
    "def pca2(data, pc_count = None):\n",
    "    pca = PCA(n_components = npc) # can choose solver too, etc.\n",
    "    return pca.fit_transform(data), pca.explained_variance_ratio_\n",
    "\n",
    "npc = 6 # set number of PCs to solve for here\n",
    "# input array should be 2 dimensional\n",
    "#PCs, varex = pca2(np.transpose(darseas2d),npc)"
   ]
  },
  {
   "cell_type": "code",
   "execution_count": 6,
   "metadata": {},
   "outputs": [
    {
     "name": "stdout",
     "output_type": "stream",
     "text": [
      "['0.00E+2', '1.28E+1', '1.08E+0', '1.48E+0']\n",
      "4879 1538 The-Wor\n",
      "0.868786922767 0.937536165662\n",
      "['0.00E+2', '9.02E+1', '6.07E-1', '2.23E+0']\n",
      "54814 29380 Investi\n",
      "0.806587423522 0.90440625653\n",
      "['0.00E+2', '8.97E+1', '9.77E-1', '2.69E+0']\n",
      "90648 75840 Maria-S\n",
      "0.764503802166 0.871064619161\n",
      "['0.00E+2', '3.67E+2', '2.71E+0', '8.19E+0']\n",
      "20300 20295 Meteor_\n",
      "0.883237497654 0.930839337087\n",
      "['0.00E+2', '1.25E+2', '7.85E-1', '2.74E+0']\n",
      "445902 107383 Polarst\n",
      "0.703009134682 0.854091990106\n",
      "['0.00E+2', '4.65E+1', '1.18E+0', '3.90E+0']\n",
      "10763 10763 Roger-R\n",
      "0.865162837001 0.928280378135\n",
      "['0.00E+2', '8.46E+1', '2.40E+0', '6.76E+0']\n",
      "4574 4574 SonneI_\n",
      "0.831266263838 0.896634174084\n",
      "['0.00E+2', '1.39E+2', '2.56E+0', '6.03E+0']\n",
      "60196 60045 SonneII\n",
      "0.883529099674 0.943491801832\n"
     ]
    }
   ],
   "source": [
    "filist = glob.glob(dir+'*_R_*.nc') # raw (R) files\n",
    "#snames = ['Roger-Revelle_KAOU','Maria-S-Merian_DBBT','Polarstern_DBLK',\\\n",
    "#         'SonneII_DBBE','Investigator_VLMJ']\n",
    "#rfi = dir+'OceanRAIN__R__RV-Roger-Revelle_KAOU__UHAM-ICDC__v1_0.nc'\n",
    "#rfi = dir+'OceanRAIN__R__RV-Maria-S-Merian_DBBT__UHAM-ICDC__v1_0.nc'\n",
    "#rfi = dir+'OceanRAIN__R__RV-Polarstern_DBLK__UHAM-ICDC__v1_0.nc'\n",
    "#rfi = dir+'OceanRAIN__R__RV-SonneII_DBBE__UHAM-ICDC__v1_0.nc'\n",
    "#rfi = dir+'OceanRAIN__R__RV-Investigator_VLMJ__UHAM-ICDC__v1_0.nc'\n",
    "#from PIL import Image\n",
    "import subprocess #from subprocess import call\n",
    "for f in filist:\n",
    "    rfi = f #dir+'OceanRAIN__R__RV-'+f+'__v1.0.nc'\n",
    "    tit = rfi[68:75]\n",
    "    dat= Dataset(rfi)\n",
    "    #dat= h5py.File(rfi,'r')\n",
    "    rr = np.array(dat['ODM470_precipitation_rate_R'])\n",
    "    nt = np.size(dat['count'][:])\n",
    "    pop= np.array(dat['probability_for_rain'])\n",
    "    pf = np.array(dat['precip_flag']) # 0 = rain\n",
    "    npar = np.array(dat['number_of_particles']) # number of total counts?\n",
    "    Nw= np.array(dat['intercept_of_normalized_gamma'])\n",
    "    #rsub = pop == 1.0 #rr > 0.2 # say\n",
    "    rsub = np.logical_and(pf==0, pop==1.0, npar>30)\n",
    "    nr = np.size(dat['count'][rsub])\n",
    "    print(info(rr[rsub]))\n",
    "    print(nt, nr, tit)\n",
    "    bnz = 65 # there are 128 (going up to 22mm!) so don't need them all, surely\n",
    "    startb = 12 # bin to start (most early ones have zero counts!) true for 3 datasets anyway..\n",
    "    allcts = np.zeros([bnz,nr])  # all counts\n",
    "    smallcts = np.zeros([bnz,nr]) # subtracted mean\n",
    "    nallcts = np.zeros([bnz,nr])  # normalized\n",
    "    #lallcts = np.zeros([bnz,nr])  # log10 counts\n",
    "    ssiz = np.zeros([bnz]) # strings of binsize in mm, converted to real\n",
    "    bname = []\n",
    "    for b in range(bnz):\n",
    "        bname.extend(['bin'+str(b+startb)])\n",
    "        bz = np.array(dat['bin'+str(b+startb+1)])[rsub] # integer counts, array size is ntime\n",
    "        ssiz[b] = float(dat['bin'+str(b+startb+1)].long_name[23:27])\n",
    "        #allcts[b,:] = bz[:] * (ssiz[b]*.5)**3 # weight by cube of bin radius\n",
    "        bz[bz==0] = 1 # uncomment if using log10\n",
    "        allcts[b,:] = np.log10(bz[:])\n",
    "        #allcts[b,:] = bz[:]\n",
    "        #nallcts[b,:] = bz[:]/sum(bz[:])  # wait, normalizes by # counts in this bin across time dimension?\n",
    "        \n",
    "        #lallcts[b,:] = np.log10(bz[:])\n",
    "        smallcts[b,:] = allcts[b,:] - np.mean(allcts[b,:]) # subtract the mean\n",
    "    \n",
    "    for ar in range(nr):\n",
    "        scts = np.sum(allcts[:,ar])\n",
    "        if scts <= 0: scts = 1 # some time steps have zero counts...\n",
    "        nallcts[:,ar] = smallcts[:,ar] / scts\n",
    "        \n",
    "    #ssiz = ssiz[:]**3    \n",
    "    \n",
    "    #pcs, varex = pca2(lallcts,npc)\n",
    "    #pcs, varex = pca2(nallcts,npc)\n",
    "    pcs, varex = pca2(allcts,npc)\n",
    "    print(np.sum(varex[:3]),np.sum(varex[:]))\n",
    "    pcp = pygal.Line(title='PCs, '+tit,x_title='Size bins',y_title='Counts',x_labels=bname,\\\n",
    "                    style=DarkSolarizedStyle,legend_at_top=True)\n",
    "    varst = []\n",
    "    for p in range(npc):\n",
    "        varst.extend([\"{:.2}\".format(Decimal(varex[p]*100.0))])\n",
    "    #print(varst)\n",
    "    pcp.add('PC1: '+varst[0]+'%', pcs[:,0])\n",
    "    pcp.add('PC2: '+varst[1]+'%', pcs[:,1])\n",
    "    pcp.add('PC3: '+varst[2]+'%', pcs[:,2])\n",
    "    pcp.add('PC4: '+varst[3]+'%', pcs[:,3])\n",
    "    pcp.add('PC5: '+varst[4]+'%', pcs[:,4])\n",
    "    #pcp.add('PC6: '+varst[5]+'%', pcs[:,5])\n",
    "    #pcp.render_to_png('img/pcs_'+tit+'.v2.png')\n",
    "    #finame = \"img/pcs_\"+tit+\".v2\"  # regular PCs, log10 of counts\n",
    "    #finame = \"img/pcs_norm1_\"+tit+\".v2\"  # 'norm1' divides counts by total counts (each minute)\n",
    "    finame = \"img/pcs_norm2_\"+tit+\".v2\"  # 'norm2' divides counts by something approximating mass\n",
    "    pcp.render_to_file(finame+\".svg\") # can then convert svg to something else\n",
    "    #im = Image.open(finame+\".svg\")\n",
    "    subprocess.call(['convert','-density','200',finame+'.svg',finame+'.png'])\n",
    "    #im.save(finame+'.png',quality=200)"
   ]
  },
  {
   "cell_type": "code",
   "execution_count": null,
   "metadata": {
    "collapsed": true
   },
   "outputs": [],
   "source": [
    "#pcs, varex = pca2(lallcts,npc)"
   ]
  },
  {
   "cell_type": "code",
   "execution_count": null,
   "metadata": {
    "collapsed": true
   },
   "outputs": [],
   "source": [
    "#print(np.shape(pcs))\n",
    "#print(pcs[:,0])\n",
    "#print(varex)"
   ]
  },
  {
   "cell_type": "code",
   "execution_count": null,
   "metadata": {
    "collapsed": true
   },
   "outputs": [],
   "source": [
    "##f1 = plt.figure(figsize=[8,8])\n",
    "##plt.plot(ex,pcs[:,0],)\n",
    "##print(np.shape(bname),bname)\n",
    "#pcp = pygal.Line(title='PCs',x_title='Size bins',y_title='Counts',x_labels=bname,\\\n",
    "#                    style=DarkSolarizedStyle,legend_at_top=True)\n",
    "##pcp.logarithmic = True\n",
    "##pcp.x_label_major_every = 5\n",
    "##pcp.x_label_rotation = 30\n",
    "##pcp.show_minor_x_labels = False\n",
    "#varst = []\n",
    "#for p in range(npc):\n",
    "#    varst.extend([\"{:.2}\".format(Decimal(varex[p]*100.0))])\n",
    "#print(varst)\n",
    "#pcp.add('PC1: '+varst[0], pcs[:,0])\n",
    "#pcp.add('PC2: '+varst[1], pcs[:,1])\n",
    "#pcp.add('PC3: '+varst[2], pcs[:,2])\n",
    "#pcp.add('PC4: '+varst[3], pcs[:,3])\n",
    "##pcp.add('PC5', pcs[:,4])\n",
    "#pcp.render_to_png('test-inv.png')\n",
    "#\n",
    "#\n",
    "#\n",
    "#"
   ]
  },
  {
   "cell_type": "code",
   "execution_count": null,
   "metadata": {
    "collapsed": true
   },
   "outputs": [],
   "source": [
    "#print(pcs[:,2])"
   ]
  },
  {
   "cell_type": "code",
   "execution_count": null,
   "metadata": {
    "collapsed": true
   },
   "outputs": [],
   "source": []
  }
 ],
 "metadata": {
  "kernelspec": {
   "display_name": "Python 3",
   "language": "python",
   "name": "python3"
  },
  "language_info": {
   "codemirror_mode": {
    "name": "ipython",
    "version": 3
   },
   "file_extension": ".py",
   "mimetype": "text/x-python",
   "name": "python",
   "nbconvert_exporter": "python",
   "pygments_lexer": "ipython3",
   "version": "3.6.5"
  }
 },
 "nbformat": 4,
 "nbformat_minor": 2
}
